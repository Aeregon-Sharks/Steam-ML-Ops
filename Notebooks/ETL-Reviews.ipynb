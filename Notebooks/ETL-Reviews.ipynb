{
 "cells": [
  {
   "cell_type": "markdown",
   "metadata": {},
   "source": [
    "# ETL Australian users reviews\n",
    "\n",
    "Este notebook presenta la extracción, transformación y carga de el data frame de reseñas de usuarios Australianos de Steam, junto con los criterios de por que se modifico, conservó o eliminó cada parte de la información.\n",
    "\n",
    "---"
   ]
  },
  {
   "cell_type": "markdown",
   "metadata": {},
   "source": [
    "# 1.Importamos las librerías que usaremos."
   ]
  },
  {
   "cell_type": "code",
   "execution_count": 1,
   "metadata": {},
   "outputs": [
    {
     "name": "stderr",
     "output_type": "stream",
     "text": [
      "C:\\Users\\USUARIO\\AppData\\Local\\Temp\\ipykernel_42644\\2909002933.py:4: DeprecationWarning: \n",
      "Pyarrow will become a required dependency of pandas in the next major release of pandas (pandas 3.0),\n",
      "(to allow more performant data types, such as the Arrow string type, and better interoperability with other libraries)\n",
      "but was not found to be installed on your system.\n",
      "If this would cause problems for you,\n",
      "please provide us feedback at https://github.com/pandas-dev/pandas/issues/54466\n",
      "        \n",
      "  import pandas as pd # Nuestra librearía para trabajar datos.\n",
      "[nltk_data] Downloading package punkt to\n",
      "[nltk_data]     C:\\Users\\USUARIO\\AppData\\Roaming\\nltk_data...\n",
      "[nltk_data]   Package punkt is already up-to-date!\n",
      "[nltk_data] Downloading package stopwords to\n",
      "[nltk_data]     C:\\Users\\USUARIO\\AppData\\Roaming\\nltk_data...\n",
      "[nltk_data]   Package stopwords is already up-to-date!\n",
      "[nltk_data] Downloading package wordnet to\n",
      "[nltk_data]     C:\\Users\\USUARIO\\AppData\\Roaming\\nltk_data...\n",
      "[nltk_data]   Package wordnet is already up-to-date!\n",
      "[nltk_data] Downloading package vader_lexicon to\n",
      "[nltk_data]     C:\\Users\\USUARIO\\AppData\\Roaming\\nltk_data...\n",
      "[nltk_data]   Package vader_lexicon is already up-to-date!\n"
     ]
    },
    {
     "data": {
      "text/plain": [
       "True"
      ]
     },
     "execution_count": 1,
     "metadata": {},
     "output_type": "execute_result"
    }
   ],
   "source": [
    "import nltk # Con nltk procesaremos el lenguaje natural para convertirlo a una puntuación que nos dirá si la reseña es negativa, positiva o neutra.\n",
    "from nltk.sentiment import SentimentIntensityAnalyzer # Usaremos el analizador de sentimientos de nltk.\n",
    "from langdetect import detect # Usaremos la función detect de langdetect para detectar el idioma en el que está escrita la reseña.\n",
    "import pandas as pd # Nuestra librearía para trabajar datos.\n",
    "import re # Expresiones regulares que nos serán útiles para buscar texto en las reseñas.\n",
    "\n",
    "# Funcionalidades de nltk para tratar el lenguaje natural que usaremos en las reseñas.\n",
    "from nltk.corpus import stopwords\n",
    "from nltk.tokenize import word_tokenize\n",
    "from nltk.stem import WordNetLemmatizer\n",
    "\n",
    "# Descargamos las funciones de nltk.\n",
    "nltk.download('punkt')\n",
    "nltk.download('stopwords')\n",
    "nltk.download('wordnet')\n",
    "nltk.download('vader_lexicon')"
   ]
  },
  {
   "cell_type": "markdown",
   "metadata": {},
   "source": [
    "# 2. Carga de datos."
   ]
  },
  {
   "cell_type": "markdown",
   "metadata": {},
   "source": [
    "Debemos cargar el dataframe de una manera distinta, ya que está mal formateado el JSON, para ello cree una función que dada una ruta hacia un json, realiza un proceso distinto al de carga de pd.read_json() para lograr cargar el dataframe."
   ]
  },
  {
   "cell_type": "code",
   "execution_count": 37,
   "metadata": {},
   "outputs": [],
   "source": [
    "def json_problematico(path):\n",
    "    '''\n",
    "    Crea un dataframe cuando el método pd.read_json() falla debido a que el JSON origen tiene problemas de sintaxis como usar comillas distintas entre otras.\n",
    "\n",
    "    requiere:\n",
    "    pandas y ast.\n",
    "    recibe:\n",
    "    Ruta del archivo JSON.\n",
    "    retorna:\n",
    "    dataframe de pandas con dicho archivo JSON.\n",
    "    '''\n",
    "    # Importamos las librerías necesarias.\n",
    "    import ast\n",
    "    import pandas as pd\n",
    "    # Una lista para guardar los resultados y luego convertirla a DataFrame.\n",
    "    datos = []\n",
    "    # Abrimos el archivo\n",
    "    with open(path, 'r', encoding='utf-8') as f:\n",
    "        for i, line in enumerate(f):\n",
    "            try:\n",
    "                # Convertimos cada linea a un diccionario de python.\n",
    "                json_line = ast.literal_eval(line)\n",
    "                # Agregamos la linea a los datos.\n",
    "                datos.append(json_line)\n",
    "            # Tratamos los errores con un output en la linea que se produjo\n",
    "            except:\n",
    "                print(f\"Error en la línea: {i+1}\")\n",
    "                continue\n",
    "    # Creamos el data frame con los datos resultantes y lo retornamos.\n",
    "    df = pd.DataFrame(datos)\n",
    "    return df"
   ]
  },
  {
   "cell_type": "markdown",
   "metadata": {},
   "source": [
    "---"
   ]
  },
  {
   "cell_type": "markdown",
   "metadata": {},
   "source": [
    "cargamos el JSON con la función y empezamos a realizar las primeras revisiones a este."
   ]
  },
  {
   "cell_type": "code",
   "execution_count": 38,
   "metadata": {},
   "outputs": [],
   "source": [
    "df_rev = json_problematico('../Data/australian_user_reviews.json') # Carga"
   ]
  },
  {
   "cell_type": "markdown",
   "metadata": {},
   "source": [
    "# 3. Primera vista y limpieza."
   ]
  },
  {
   "cell_type": "code",
   "execution_count": 39,
   "metadata": {},
   "outputs": [
    {
     "data": {
      "text/html": [
       "<div>\n",
       "<style scoped>\n",
       "    .dataframe tbody tr th:only-of-type {\n",
       "        vertical-align: middle;\n",
       "    }\n",
       "\n",
       "    .dataframe tbody tr th {\n",
       "        vertical-align: top;\n",
       "    }\n",
       "\n",
       "    .dataframe thead th {\n",
       "        text-align: right;\n",
       "    }\n",
       "</style>\n",
       "<table border=\"1\" class=\"dataframe\">\n",
       "  <thead>\n",
       "    <tr style=\"text-align: right;\">\n",
       "      <th></th>\n",
       "      <th>user_id</th>\n",
       "      <th>user_url</th>\n",
       "      <th>reviews</th>\n",
       "    </tr>\n",
       "  </thead>\n",
       "  <tbody>\n",
       "    <tr>\n",
       "      <th>0</th>\n",
       "      <td>76561197970982479</td>\n",
       "      <td>http://steamcommunity.com/profiles/76561197970...</td>\n",
       "      <td>[{'funny': '', 'posted': 'Posted November 5, 2...</td>\n",
       "    </tr>\n",
       "    <tr>\n",
       "      <th>1</th>\n",
       "      <td>js41637</td>\n",
       "      <td>http://steamcommunity.com/id/js41637</td>\n",
       "      <td>[{'funny': '', 'posted': 'Posted June 24, 2014...</td>\n",
       "    </tr>\n",
       "    <tr>\n",
       "      <th>2</th>\n",
       "      <td>evcentric</td>\n",
       "      <td>http://steamcommunity.com/id/evcentric</td>\n",
       "      <td>[{'funny': '', 'posted': 'Posted February 3.',...</td>\n",
       "    </tr>\n",
       "    <tr>\n",
       "      <th>3</th>\n",
       "      <td>doctr</td>\n",
       "      <td>http://steamcommunity.com/id/doctr</td>\n",
       "      <td>[{'funny': '', 'posted': 'Posted October 14, 2...</td>\n",
       "    </tr>\n",
       "    <tr>\n",
       "      <th>4</th>\n",
       "      <td>maplemage</td>\n",
       "      <td>http://steamcommunity.com/id/maplemage</td>\n",
       "      <td>[{'funny': '3 people found this review funny',...</td>\n",
       "    </tr>\n",
       "  </tbody>\n",
       "</table>\n",
       "</div>"
      ],
      "text/plain": [
       "             user_id                                           user_url  \\\n",
       "0  76561197970982479  http://steamcommunity.com/profiles/76561197970...   \n",
       "1            js41637               http://steamcommunity.com/id/js41637   \n",
       "2          evcentric             http://steamcommunity.com/id/evcentric   \n",
       "3              doctr                 http://steamcommunity.com/id/doctr   \n",
       "4          maplemage             http://steamcommunity.com/id/maplemage   \n",
       "\n",
       "                                             reviews  \n",
       "0  [{'funny': '', 'posted': 'Posted November 5, 2...  \n",
       "1  [{'funny': '', 'posted': 'Posted June 24, 2014...  \n",
       "2  [{'funny': '', 'posted': 'Posted February 3.',...  \n",
       "3  [{'funny': '', 'posted': 'Posted October 14, 2...  \n",
       "4  [{'funny': '3 people found this review funny',...  "
      ]
     },
     "execution_count": 39,
     "metadata": {},
     "output_type": "execute_result"
    }
   ],
   "source": [
    "df_rev.head() # Preview"
   ]
  },
  {
   "cell_type": "markdown",
   "metadata": {},
   "source": [
    "Ya que los datos de reviews están en lista, necesitamos desempaquetarlos para poder usarlos en columnas y realizar una limpieza y el EDA a futuro correctamente. Tampoco usaremos la columna url de los usuarios asi que la borramos directamente."
   ]
  },
  {
   "cell_type": "code",
   "execution_count": 40,
   "metadata": {},
   "outputs": [],
   "source": [
    "df_rev = df_rev.drop(columns=['user_url']).reset_index(drop=True)"
   ]
  },
  {
   "cell_type": "markdown",
   "metadata": {},
   "source": [
    "Primero que todo, eliminamos los duplicados ya que esto puede hacer que el proceso se tarde aún más y llenar el nuevo data frame con información repetida exponencialmente. También eliminamos los valores faltantes para no hacer iteraciones innecesarias."
   ]
  },
  {
   "cell_type": "code",
   "execution_count": 41,
   "metadata": {},
   "outputs": [
    {
     "data": {
      "text/html": [
       "<div>\n",
       "<style scoped>\n",
       "    .dataframe tbody tr th:only-of-type {\n",
       "        vertical-align: middle;\n",
       "    }\n",
       "\n",
       "    .dataframe tbody tr th {\n",
       "        vertical-align: top;\n",
       "    }\n",
       "\n",
       "    .dataframe thead th {\n",
       "        text-align: right;\n",
       "    }\n",
       "</style>\n",
       "<table border=\"1\" class=\"dataframe\">\n",
       "  <thead>\n",
       "    <tr style=\"text-align: right;\">\n",
       "      <th></th>\n",
       "      <th>user_id</th>\n",
       "      <th>reviews</th>\n",
       "    </tr>\n",
       "  </thead>\n",
       "  <tbody>\n",
       "    <tr>\n",
       "      <th>456</th>\n",
       "      <td>bokkkbokkk</td>\n",
       "      <td>[{'funny': '', 'posted': 'Posted September 24,...</td>\n",
       "    </tr>\n",
       "    <tr>\n",
       "      <th>1182</th>\n",
       "      <td>ImSeriouss</td>\n",
       "      <td>[{'funny': '', 'posted': 'Posted January 10, 2...</td>\n",
       "    </tr>\n",
       "    <tr>\n",
       "      <th>1456</th>\n",
       "      <td>76561198062039159</td>\n",
       "      <td>[{'funny': '', 'posted': 'Posted August 24, 20...</td>\n",
       "    </tr>\n",
       "    <tr>\n",
       "      <th>1477</th>\n",
       "      <td>76561198045009232</td>\n",
       "      <td>[{'funny': '', 'posted': 'Posted October 31, 2...</td>\n",
       "    </tr>\n",
       "    <tr>\n",
       "      <th>1746</th>\n",
       "      <td>nitr0ticwolf</td>\n",
       "      <td>[{'funny': '', 'posted': 'Posted December 12, ...</td>\n",
       "    </tr>\n",
       "    <tr>\n",
       "      <th>...</th>\n",
       "      <td>...</td>\n",
       "      <td>...</td>\n",
       "    </tr>\n",
       "    <tr>\n",
       "      <th>17819</th>\n",
       "      <td>76561198076474887</td>\n",
       "      <td>[{'funny': '', 'posted': 'Posted April 12.', '...</td>\n",
       "    </tr>\n",
       "    <tr>\n",
       "      <th>17916</th>\n",
       "      <td>yolofaceguy</td>\n",
       "      <td>[{'funny': '', 'posted': 'Posted October 31, 2...</td>\n",
       "    </tr>\n",
       "    <tr>\n",
       "      <th>18028</th>\n",
       "      <td>76561198075591109</td>\n",
       "      <td>[{'funny': '', 'posted': 'Posted December 26, ...</td>\n",
       "    </tr>\n",
       "    <tr>\n",
       "      <th>18234</th>\n",
       "      <td>76561198092022514</td>\n",
       "      <td>[{'funny': '', 'posted': 'Posted July 3.', 'la...</td>\n",
       "    </tr>\n",
       "    <tr>\n",
       "      <th>18309</th>\n",
       "      <td>SuchGayMuchWow</td>\n",
       "      <td>[{'funny': '', 'posted': 'Posted July 18, 2015...</td>\n",
       "    </tr>\n",
       "  </tbody>\n",
       "</table>\n",
       "<p>314 rows × 2 columns</p>\n",
       "</div>"
      ],
      "text/plain": [
       "                 user_id                                            reviews\n",
       "456           bokkkbokkk  [{'funny': '', 'posted': 'Posted September 24,...\n",
       "1182          ImSeriouss  [{'funny': '', 'posted': 'Posted January 10, 2...\n",
       "1456   76561198062039159  [{'funny': '', 'posted': 'Posted August 24, 20...\n",
       "1477   76561198045009232  [{'funny': '', 'posted': 'Posted October 31, 2...\n",
       "1746        nitr0ticwolf  [{'funny': '', 'posted': 'Posted December 12, ...\n",
       "...                  ...                                                ...\n",
       "17819  76561198076474887  [{'funny': '', 'posted': 'Posted April 12.', '...\n",
       "17916        yolofaceguy  [{'funny': '', 'posted': 'Posted October 31, 2...\n",
       "18028  76561198075591109  [{'funny': '', 'posted': 'Posted December 26, ...\n",
       "18234  76561198092022514  [{'funny': '', 'posted': 'Posted July 3.', 'la...\n",
       "18309     SuchGayMuchWow  [{'funny': '', 'posted': 'Posted July 18, 2015...\n",
       "\n",
       "[314 rows x 2 columns]"
      ]
     },
     "execution_count": 41,
     "metadata": {},
     "output_type": "execute_result"
    }
   ],
   "source": [
    "df_rev[df_rev.duplicated(subset=['user_id'])] # Primero observamos cuantos hay."
   ]
  },
  {
   "cell_type": "code",
   "execution_count": 42,
   "metadata": {},
   "outputs": [],
   "source": [
    "df_rev = df_rev.drop_duplicates(subset=['user_id']) # Borramos los duplicados."
   ]
  },
  {
   "cell_type": "code",
   "execution_count": 43,
   "metadata": {},
   "outputs": [
    {
     "data": {
      "text/plain": [
       "user_id    0\n",
       "reviews    0\n",
       "dtype: int64"
      ]
     },
     "execution_count": 43,
     "metadata": {},
     "output_type": "execute_result"
    }
   ],
   "source": [
    "df_rev.isna().sum() # Seguimos con los faltantes."
   ]
  },
  {
   "cell_type": "markdown",
   "metadata": {},
   "source": [
    "# 4. Transformación."
   ]
  },
  {
   "cell_type": "markdown",
   "metadata": {},
   "source": [
    "Al no haber valores faltantes, empezamos con nuestro objetivo de crear el nuevo dataframe con cada review y sus características.\n",
    "\n",
    "En este caso no me llevaré las columnas funny y helpful, ya que no las considero útiles ni para la API ni para el algoritmo de recomendación."
   ]
  },
  {
   "cell_type": "code",
   "execution_count": 44,
   "metadata": {},
   "outputs": [],
   "source": [
    "keys = ['posted', 'item_id', 'recommend', 'review'] # Elegimos las columnas que queremos que tenga nuestro nuevo dataframe.\n",
    "df = pd.DataFrame(columns=['id', *keys]) # Creamos el data frame con las columnas id y las llaves definirán el resto de columnas.\n",
    "# Iteramos en las reviews, y lo indexamos para poder acceder al id.\n",
    "for i, revs in enumerate(df_rev['reviews']):\n",
    "    id = df_rev['user_id'].iloc[i] # Extraemos el id con el indice.\n",
    "    # Iteramos en las reviews de el usuario.\n",
    "    for rev in revs:\n",
    "        # Por cada review, se crea una fila con el id previamente extraído, más los datos en cada una de las llaves que previamente extrajimos.\n",
    "        row = [id, *[rev[key] for key in keys]]\n",
    "        # Agregamos la fila al dataframe nuevo.\n",
    "        df.loc[len(df)] = row"
   ]
  },
  {
   "cell_type": "markdown",
   "metadata": {},
   "source": [
    "Evaluemos el dataframe resultante y si es correcto podemos eliminar el anterior para ahorrar recursos."
   ]
  },
  {
   "cell_type": "code",
   "execution_count": 45,
   "metadata": {},
   "outputs": [
    {
     "data": {
      "text/html": [
       "<div>\n",
       "<style scoped>\n",
       "    .dataframe tbody tr th:only-of-type {\n",
       "        vertical-align: middle;\n",
       "    }\n",
       "\n",
       "    .dataframe tbody tr th {\n",
       "        vertical-align: top;\n",
       "    }\n",
       "\n",
       "    .dataframe thead th {\n",
       "        text-align: right;\n",
       "    }\n",
       "</style>\n",
       "<table border=\"1\" class=\"dataframe\">\n",
       "  <thead>\n",
       "    <tr style=\"text-align: right;\">\n",
       "      <th></th>\n",
       "      <th>id</th>\n",
       "      <th>posted</th>\n",
       "      <th>item_id</th>\n",
       "      <th>recommend</th>\n",
       "      <th>review</th>\n",
       "    </tr>\n",
       "  </thead>\n",
       "  <tbody>\n",
       "    <tr>\n",
       "      <th>0</th>\n",
       "      <td>76561197970982479</td>\n",
       "      <td>Posted November 5, 2011.</td>\n",
       "      <td>1250</td>\n",
       "      <td>True</td>\n",
       "      <td>Simple yet with great replayability. In my opi...</td>\n",
       "    </tr>\n",
       "    <tr>\n",
       "      <th>1</th>\n",
       "      <td>76561197970982479</td>\n",
       "      <td>Posted July 15, 2011.</td>\n",
       "      <td>22200</td>\n",
       "      <td>True</td>\n",
       "      <td>It's unique and worth a playthrough.</td>\n",
       "    </tr>\n",
       "    <tr>\n",
       "      <th>2</th>\n",
       "      <td>76561197970982479</td>\n",
       "      <td>Posted April 21, 2011.</td>\n",
       "      <td>43110</td>\n",
       "      <td>True</td>\n",
       "      <td>Great atmosphere. The gunplay can be a bit chu...</td>\n",
       "    </tr>\n",
       "    <tr>\n",
       "      <th>3</th>\n",
       "      <td>js41637</td>\n",
       "      <td>Posted June 24, 2014.</td>\n",
       "      <td>251610</td>\n",
       "      <td>True</td>\n",
       "      <td>I know what you think when you see this title ...</td>\n",
       "    </tr>\n",
       "    <tr>\n",
       "      <th>4</th>\n",
       "      <td>js41637</td>\n",
       "      <td>Posted September 8, 2013.</td>\n",
       "      <td>227300</td>\n",
       "      <td>True</td>\n",
       "      <td>For a simple (it's actually not all that simpl...</td>\n",
       "    </tr>\n",
       "  </tbody>\n",
       "</table>\n",
       "</div>"
      ],
      "text/plain": [
       "                  id                     posted item_id  recommend  \\\n",
       "0  76561197970982479   Posted November 5, 2011.    1250       True   \n",
       "1  76561197970982479      Posted July 15, 2011.   22200       True   \n",
       "2  76561197970982479     Posted April 21, 2011.   43110       True   \n",
       "3            js41637      Posted June 24, 2014.  251610       True   \n",
       "4            js41637  Posted September 8, 2013.  227300       True   \n",
       "\n",
       "                                              review  \n",
       "0  Simple yet with great replayability. In my opi...  \n",
       "1               It's unique and worth a playthrough.  \n",
       "2  Great atmosphere. The gunplay can be a bit chu...  \n",
       "3  I know what you think when you see this title ...  \n",
       "4  For a simple (it's actually not all that simpl...  "
      ]
     },
     "execution_count": 45,
     "metadata": {},
     "output_type": "execute_result"
    }
   ],
   "source": [
    "df.head()"
   ]
  },
  {
   "cell_type": "markdown",
   "metadata": {},
   "source": [
    "Por encima se ve correcto, pero me gustaría probarlo."
   ]
  },
  {
   "cell_type": "code",
   "execution_count": 46,
   "metadata": {},
   "outputs": [],
   "source": [
    "# Iteramos en el ID y la cantidad de veces que aparece cada ID en nuestro nuevo dataframe.\n",
    "for id, cant in df['id'].value_counts().items():\n",
    "    # Las veces que se espera que aparezca ese ID son la cantidad de reviews que tiene ese usuario en nuestro antiguo data frame, las extraemos sabiendo la longitud de la lista que arrojen dichas reviews.\n",
    "    exp = len(df_rev[df_rev['user_id'] == id]['reviews'].iloc[0])\n",
    "    # Si la cantidad de veces que aparece el usuario es diferente a la esperada, nos dice qué usuario está causándolo y detiene el programa.\n",
    "    if cant != exp:\n",
    "        print(f'Hay {cant} reviews, se esperaban {exp}. Id: {id}')\n",
    "        break"
   ]
  },
  {
   "cell_type": "markdown",
   "metadata": {},
   "source": [
    "Al no haberse detenido el programa con el output, sabemos que el dataframe resultante está bien, procedemos a borrar el anterior y seguir con nuestro objetivo."
   ]
  },
  {
   "cell_type": "code",
   "execution_count": 47,
   "metadata": {},
   "outputs": [],
   "source": [
    "del df_rev"
   ]
  },
  {
   "cell_type": "markdown",
   "metadata": {},
   "source": [
    "---"
   ]
  },
  {
   "cell_type": "markdown",
   "metadata": {},
   "source": [
    "# 5. Segunda transformación ( Análisis de sentimientos )"
   ]
  },
  {
   "cell_type": "markdown",
   "metadata": {},
   "source": [
    "### 5.1 Limpieza"
   ]
  },
  {
   "cell_type": "markdown",
   "metadata": {},
   "source": [
    "Empecemos limpiando el apartado que usaremos, que es el de review, ya que pueden haber caracteres o texto que haga más lento y menos exacto el proceso de evaluación de sentimientos."
   ]
  },
  {
   "cell_type": "code",
   "execution_count": 48,
   "metadata": {},
   "outputs": [],
   "source": [
    "def clean_text(text):\n",
    "    '''\n",
    "    Limpia texto.\n",
    "\n",
    "    Elimina los caracteres que no sean alfanuméricos del texto y vuelve minúsculas las letras\n",
    "    \n",
    "    Requiere:\n",
    "    importar re (regular expressions).\n",
    "\n",
    "    Recibe:\n",
    "    Un String.\n",
    "\n",
    "    Retorna:\n",
    "    El string optimizado para su procesamiento como lenguaje natural.\n",
    "    '''\n",
    "    # Quitamos los caracteres que no sean letras o números.\n",
    "    text = re.sub(r'[^a-zA-Z0-9\\s]', '', text) \n",
    "    # Convertimos el texto a minúsculas.\n",
    "    text = text.lower()\n",
    "    # Tokenizamos el texto.\n",
    "    tokens = word_tokenize(text)\n",
    "    # Eliminamos las stopworlds.\n",
    "    stop_words = set(stopwords.words('english'))\n",
    "    tokens = [word for word in tokens if word not in stop_words]\n",
    "    # Realizamos la Lematización.\n",
    "    lemmatizer = WordNetLemmatizer()\n",
    "    tokens = [lemmatizer.lemmatize(word) for word in tokens]\n",
    "    # Unimos los tokens en texto limpio y lo retornamos.\n",
    "    clean_text = ' '.join(tokens)\n",
    "    return clean_text"
   ]
  },
  {
   "cell_type": "code",
   "execution_count": 49,
   "metadata": {},
   "outputs": [],
   "source": [
    "df['review'] = df['review'].apply(clean_text)"
   ]
  },
  {
   "cell_type": "markdown",
   "metadata": {},
   "source": [
    "### 5.2 Transformación."
   ]
  },
  {
   "cell_type": "markdown",
   "metadata": {},
   "source": [
    "Con el texto limpio, procedemos a identificar el idioma en el que esté escrito cada reseña."
   ]
  },
  {
   "cell_type": "code",
   "execution_count": 50,
   "metadata": {},
   "outputs": [],
   "source": [
    "def detect_language(text):\n",
    "    '''\n",
    "    Detecta idioma.\n",
    "\n",
    "    Detecta el idioma de un String.\n",
    "\n",
    "    Requiere:\n",
    "    importar detect ( Ver comienzo del notebook ).\n",
    "\n",
    "    Recibe:\n",
    "    Un String.\n",
    "\n",
    "    Retorna:\n",
    "    Idioma del texto simplificado, por ejemplo inglés: \"en\", español: \"es\", etc... Si no detecta texto, retorna None.\n",
    "    '''\n",
    "    # Intenta detectar el idioma, si no hay texto retorna None\n",
    "    try:\n",
    "        return detect(text)\n",
    "    except:\n",
    "        return None\n",
    "\n",
    "df['lang'] = df['review'].apply(detect_language)"
   ]
  },
  {
   "cell_type": "markdown",
   "metadata": {},
   "source": [
    "Observemos qué idiomas detectó nuestro script."
   ]
  },
  {
   "cell_type": "code",
   "execution_count": 51,
   "metadata": {},
   "outputs": [
    {
     "data": {
      "text/plain": [
       "lang\n",
       "en    38570\n",
       "pt     2117\n",
       "so     1831\n",
       "da     1679\n",
       "es     1675\n",
       "af     1551\n",
       "no      969\n",
       "cy      952\n",
       "nl      832\n",
       "tl      783\n",
       "it      633\n",
       "fr      519\n",
       "ro      512\n",
       "sl      446\n",
       "ca      437\n",
       "pl      419\n",
       "et      337\n",
       "id      320\n",
       "tr      310\n",
       "sw      305\n",
       "hr      260\n",
       "sk      214\n",
       "fi      201\n",
       "sv      182\n",
       "de      166\n",
       "sq      147\n",
       "hu      127\n",
       "lt       98\n",
       "cs       54\n",
       "lv       49\n",
       "vi       36\n",
       "Name: count, dtype: int64"
      ]
     },
     "execution_count": 51,
     "metadata": {},
     "output_type": "execute_result"
    }
   ],
   "source": [
    "df['lang'].value_counts()"
   ]
  },
  {
   "cell_type": "markdown",
   "metadata": {},
   "source": [
    "Ya que hay muchos idiomas, pero en su gran mayoría las reseñas están en inglés, mapearé el top 5 de los idiomas para un futuro EDA y a los que queden fuera los categorizaremos como otros."
   ]
  },
  {
   "cell_type": "code",
   "execution_count": 52,
   "metadata": {},
   "outputs": [],
   "source": [
    "# Creamos un mapeo para centrarnos en el top 5 de idiomas en las reseñas.\n",
    "def map_lang(lang):\n",
    "    maps = {\n",
    "        \"en\": \"Inglés\",\n",
    "        \"pt\": \"Portugués\",\n",
    "        \"es\": \"Español\",\n",
    "        \"so\": \"Somalí\",\n",
    "        \"da\": \"Danés\"\n",
    "    }\n",
    "    return maps.get(lang, \"Otro\")\n",
    "# Aplicamos la función al dataframe.\n",
    "df['lang'] = df['lang'].apply(map_lang)"
   ]
  },
  {
   "cell_type": "code",
   "execution_count": 53,
   "metadata": {},
   "outputs": [
    {
     "data": {
      "text/plain": [
       "lang\n",
       "Inglés       38570\n",
       "Otro         12558\n",
       "Portugués     2117\n",
       "Somalí        1831\n",
       "Danés         1679\n",
       "Español       1675\n",
       "Name: count, dtype: int64"
      ]
     },
     "execution_count": 53,
     "metadata": {},
     "output_type": "execute_result"
    }
   ],
   "source": [
    "df['lang'].value_counts()"
   ]
  },
  {
   "cell_type": "markdown",
   "metadata": {},
   "source": [
    "Por los siguientes motivos:\n",
    "\n",
    "\n",
    "1. Cantidad de registros en inglés ( No perderemos muchos datos ).\n",
    "2. Optimización y entrenamiento de los algoritmos de lenguaje natural o análisis de sentimiento para el lenguaje Inglés.\n",
    "3. Rendimiento de la transformación de los datos ( menos registros, menos trabajo computacional ).\n",
    "4. Previo intento de traducción con la API de google translator en una función usando pandas ( Intento fallido debido a la cantidad de registros ).\n",
    "5. Por último, si el script de idiomas pudo identificar el inglés, es porque hay un texto legible que puede facilitar la detección de sentimiento.\n",
    "\n",
    "He optado por únicamente utilizar únicamente las reseñas en inglés para el analizador de sentimientos, sin embargo, los demás idiomas nos pueden ser útiles en el EDA para ver la diversidad de idiomas que tienen los usuarios de Steam ubicados en Australia."
   ]
  },
  {
   "cell_type": "markdown",
   "metadata": {},
   "source": [
    "Empezamos guardando los idiomas para su futuro análisis."
   ]
  },
  {
   "cell_type": "code",
   "execution_count": 54,
   "metadata": {},
   "outputs": [
    {
     "data": {
      "text/html": [
       "<div>\n",
       "<style scoped>\n",
       "    .dataframe tbody tr th:only-of-type {\n",
       "        vertical-align: middle;\n",
       "    }\n",
       "\n",
       "    .dataframe tbody tr th {\n",
       "        vertical-align: top;\n",
       "    }\n",
       "\n",
       "    .dataframe thead th {\n",
       "        text-align: right;\n",
       "    }\n",
       "</style>\n",
       "<table border=\"1\" class=\"dataframe\">\n",
       "  <thead>\n",
       "    <tr style=\"text-align: right;\">\n",
       "      <th></th>\n",
       "      <th>Cantidad</th>\n",
       "      <th>Porcentaje</th>\n",
       "    </tr>\n",
       "  </thead>\n",
       "  <tbody>\n",
       "    <tr>\n",
       "      <th>Inglés</th>\n",
       "      <td>38570</td>\n",
       "      <td>66.0 %</td>\n",
       "    </tr>\n",
       "    <tr>\n",
       "      <th>Otro</th>\n",
       "      <td>12558</td>\n",
       "      <td>21.4 %</td>\n",
       "    </tr>\n",
       "    <tr>\n",
       "      <th>Portugués</th>\n",
       "      <td>2117</td>\n",
       "      <td>3.62 %</td>\n",
       "    </tr>\n",
       "    <tr>\n",
       "      <th>Somalí</th>\n",
       "      <td>1831</td>\n",
       "      <td>3.13 %</td>\n",
       "    </tr>\n",
       "    <tr>\n",
       "      <th>Danés</th>\n",
       "      <td>1679</td>\n",
       "      <td>2.87 %</td>\n",
       "    </tr>\n",
       "    <tr>\n",
       "      <th>Español</th>\n",
       "      <td>1675</td>\n",
       "      <td>2.86 %</td>\n",
       "    </tr>\n",
       "  </tbody>\n",
       "</table>\n",
       "</div>"
      ],
      "text/plain": [
       "           Cantidad Porcentaje\n",
       "Inglés        38570     66.0 %\n",
       "Otro          12558     21.4 %\n",
       "Portugués      2117     3.62 %\n",
       "Somalí         1831     3.13 %\n",
       "Danés          1679     2.87 %\n",
       "Español        1675     2.86 %"
      ]
     },
     "metadata": {},
     "output_type": "display_data"
    }
   ],
   "source": [
    "# El total de registros para luego calcular el porcentaje.\n",
    "total = len(df)\n",
    "# Diccionario para luego crear el dataframe.\n",
    "langs = {}\n",
    "# Iteramos en las veces que aparecen los idiomas en nuestro data frame, junto con el idioma, a esta tupla la llamamos elm.\n",
    "for elm in df['lang'].value_counts().items():\n",
    "    # El porcentaje será la cantidad de apariciones sobre el total.\n",
    "    perc = elm[1]/total\n",
    "    # Formateamos el porcentaje para una mejor vista.\n",
    "    perc = str(perc*100)[:4] + ' %'\n",
    "    # Lo agregamos al diccionario con la llave del nombre del idioma.\n",
    "    langs[elm[0]] = [elm[1], perc]\n",
    "# Creamos el data frame y lo guardamos como CSV para luego usarlo\n",
    "df_langs = pd.DataFrame.from_dict(langs, orient='index', columns=['Cantidad', 'Porcentaje'])\n",
    "df_langs.to_csv('../Data/Processed/langs_EDA.csv')\n",
    "display(df_langs) # Revisamos el dataframe\n",
    "# Borramos lo que no usaremos.\n",
    "del df_langs, langs"
   ]
  },
  {
   "cell_type": "markdown",
   "metadata": {},
   "source": [
    "Ahora filtramos el df para que solo tenga las reviews en inglés."
   ]
  },
  {
   "cell_type": "code",
   "execution_count": 55,
   "metadata": {},
   "outputs": [],
   "source": [
    "df = df[df['lang'] == 'Inglés']"
   ]
  },
  {
   "cell_type": "markdown",
   "metadata": {},
   "source": [
    "### 5.3 Función sentimientos.\n",
    "\n",
    "Para hacer el análisis de sentimiento cree la función sentimiento que se encargará de recibir el texto, y retornar lo que el algoritmo considere. Consultar la documentación de la función."
   ]
  },
  {
   "cell_type": "code",
   "execution_count": 56,
   "metadata": {},
   "outputs": [],
   "source": [
    "def sentimiento(texto, sid=None):\n",
    "    '''\n",
    "    Analizador de sentimiento.\n",
    "\n",
    "    Detecta el sentimiento de un texto y retorna un número en base a el puntaje obtenido.\n",
    "    \n",
    "    Requiere:\n",
    "    nltk y su paquete de descarga ( Consultar comienzo del notebook )\n",
    "\n",
    "    Recibe:\n",
    "    Un string y un objeto de SentimentIntensityAnalyzer() (opcional pero recomendado), Si no existe lo crea.\n",
    "\n",
    "    Retorna:\n",
    "    0 para sentimientos negativos, 1 para sentimientos neutrales (O las que no le encuentre sentido) y 2 para sentimientos positivos.\n",
    "    '''\n",
    "    # Creamos el analizador de sentimiento si no existe.\n",
    "    if not sid:\n",
    "        sid = SentimentIntensityAnalyzer()\n",
    "    # Obtenemos el puntaje de sentimiento.\n",
    "    scores = sid.polarity_scores(texto)\n",
    "    # Interpretamos el puntaje obtenido y retornamos el número esperado.\n",
    "    if scores['compound'] >= 0.05:\n",
    "        return 2\n",
    "    elif scores['compound'] <= -0.05:\n",
    "        return 0\n",
    "    else:\n",
    "        return 1"
   ]
  },
  {
   "cell_type": "markdown",
   "metadata": {},
   "source": [
    "Ahora creamos el analizador de sentimientos y lo usamos en nuestro dataframe para crear la nueva columna."
   ]
  },
  {
   "cell_type": "code",
   "execution_count": 57,
   "metadata": {},
   "outputs": [],
   "source": [
    "sid = SentimentIntensityAnalyzer()\n",
    "df['sentiment'] = df['review'].apply(sentimiento, args=[sid])"
   ]
  },
  {
   "cell_type": "markdown",
   "metadata": {},
   "source": [
    "Eliminamos la columna reseñas ya que ya no la usaremos más."
   ]
  },
  {
   "cell_type": "code",
   "execution_count": 58,
   "metadata": {},
   "outputs": [],
   "source": [
    "df = df.drop(columns=['review']).reset_index(drop=True)"
   ]
  },
  {
   "cell_type": "markdown",
   "metadata": {},
   "source": [
    "# 6. Última transformación ( Columna Fecha )."
   ]
  },
  {
   "cell_type": "markdown",
   "metadata": {},
   "source": [
    "Por último transformamos la columna posted a su año para el EDA de este dataframe, información la cual nos será útil."
   ]
  },
  {
   "cell_type": "code",
   "execution_count": 59,
   "metadata": {},
   "outputs": [],
   "source": [
    "# Extraemos el año con una función.\n",
    "def years(texto):\n",
    "    # Expresión regular para encontrar el año (4 dígitos)\n",
    "    patron = r'(\\d{4})'  \n",
    "    resultado = re.findall(patron, texto)\n",
    "    if resultado:\n",
    "        return resultado[0]  # Devuelve el primer año encontrado\n",
    "    else:\n",
    "        return None  # Si no se encuentra el año, devuelve None\n",
    "\n",
    "# Aplicar la función a cada fila del DataFrame\n",
    "df['year'] = df['posted'].apply(years)"
   ]
  },
  {
   "cell_type": "markdown",
   "metadata": {},
   "source": [
    "Verificamos que quedó bien."
   ]
  },
  {
   "cell_type": "code",
   "execution_count": 60,
   "metadata": {},
   "outputs": [
    {
     "data": {
      "text/plain": [
       "array(['2011', '2014', '2013', None, '2012', '2015', '2010'], dtype=object)"
      ]
     },
     "execution_count": 60,
     "metadata": {},
     "output_type": "execute_result"
    }
   ],
   "source": [
    "df['year'].unique()"
   ]
  },
  {
   "cell_type": "code",
   "execution_count": 61,
   "metadata": {},
   "outputs": [
    {
     "data": {
      "text/html": [
       "<div>\n",
       "<style scoped>\n",
       "    .dataframe tbody tr th:only-of-type {\n",
       "        vertical-align: middle;\n",
       "    }\n",
       "\n",
       "    .dataframe tbody tr th {\n",
       "        vertical-align: top;\n",
       "    }\n",
       "\n",
       "    .dataframe thead th {\n",
       "        text-align: right;\n",
       "    }\n",
       "</style>\n",
       "<table border=\"1\" class=\"dataframe\">\n",
       "  <thead>\n",
       "    <tr style=\"text-align: right;\">\n",
       "      <th></th>\n",
       "      <th>id</th>\n",
       "      <th>posted</th>\n",
       "      <th>item_id</th>\n",
       "      <th>recommend</th>\n",
       "      <th>lang</th>\n",
       "      <th>sentiment</th>\n",
       "      <th>year</th>\n",
       "    </tr>\n",
       "  </thead>\n",
       "  <tbody>\n",
       "    <tr>\n",
       "      <th>0</th>\n",
       "      <td>76561197970982479</td>\n",
       "      <td>Posted November 5, 2011.</td>\n",
       "      <td>1250</td>\n",
       "      <td>True</td>\n",
       "      <td>Inglés</td>\n",
       "      <td>2</td>\n",
       "      <td>2011</td>\n",
       "    </tr>\n",
       "    <tr>\n",
       "      <th>1</th>\n",
       "      <td>76561197970982479</td>\n",
       "      <td>Posted July 15, 2011.</td>\n",
       "      <td>22200</td>\n",
       "      <td>True</td>\n",
       "      <td>Inglés</td>\n",
       "      <td>2</td>\n",
       "      <td>2011</td>\n",
       "    </tr>\n",
       "    <tr>\n",
       "      <th>2</th>\n",
       "      <td>76561197970982479</td>\n",
       "      <td>Posted April 21, 2011.</td>\n",
       "      <td>43110</td>\n",
       "      <td>True</td>\n",
       "      <td>Inglés</td>\n",
       "      <td>2</td>\n",
       "      <td>2011</td>\n",
       "    </tr>\n",
       "    <tr>\n",
       "      <th>3</th>\n",
       "      <td>js41637</td>\n",
       "      <td>Posted June 24, 2014.</td>\n",
       "      <td>251610</td>\n",
       "      <td>True</td>\n",
       "      <td>Inglés</td>\n",
       "      <td>2</td>\n",
       "      <td>2014</td>\n",
       "    </tr>\n",
       "    <tr>\n",
       "      <th>4</th>\n",
       "      <td>js41637</td>\n",
       "      <td>Posted September 8, 2013.</td>\n",
       "      <td>227300</td>\n",
       "      <td>True</td>\n",
       "      <td>Inglés</td>\n",
       "      <td>2</td>\n",
       "      <td>2013</td>\n",
       "    </tr>\n",
       "  </tbody>\n",
       "</table>\n",
       "</div>"
      ],
      "text/plain": [
       "                  id                     posted item_id  recommend    lang  \\\n",
       "0  76561197970982479   Posted November 5, 2011.    1250       True  Inglés   \n",
       "1  76561197970982479      Posted July 15, 2011.   22200       True  Inglés   \n",
       "2  76561197970982479     Posted April 21, 2011.   43110       True  Inglés   \n",
       "3            js41637      Posted June 24, 2014.  251610       True  Inglés   \n",
       "4            js41637  Posted September 8, 2013.  227300       True  Inglés   \n",
       "\n",
       "   sentiment  year  \n",
       "0          2  2011  \n",
       "1          2  2011  \n",
       "2          2  2011  \n",
       "3          2  2014  \n",
       "4          2  2013  "
      ]
     },
     "execution_count": 61,
     "metadata": {},
     "output_type": "execute_result"
    }
   ],
   "source": [
    "df.head()"
   ]
  },
  {
   "cell_type": "markdown",
   "metadata": {},
   "source": [
    "Por último eliminamos las columnas restantes lang y posted."
   ]
  },
  {
   "cell_type": "code",
   "execution_count": 62,
   "metadata": {},
   "outputs": [],
   "source": [
    "df = df.drop(columns=['posted', 'lang'])"
   ]
  },
  {
   "cell_type": "code",
   "execution_count": 63,
   "metadata": {},
   "outputs": [
    {
     "data": {
      "text/html": [
       "<div>\n",
       "<style scoped>\n",
       "    .dataframe tbody tr th:only-of-type {\n",
       "        vertical-align: middle;\n",
       "    }\n",
       "\n",
       "    .dataframe tbody tr th {\n",
       "        vertical-align: top;\n",
       "    }\n",
       "\n",
       "    .dataframe thead th {\n",
       "        text-align: right;\n",
       "    }\n",
       "</style>\n",
       "<table border=\"1\" class=\"dataframe\">\n",
       "  <thead>\n",
       "    <tr style=\"text-align: right;\">\n",
       "      <th></th>\n",
       "      <th>id</th>\n",
       "      <th>item_id</th>\n",
       "      <th>recommend</th>\n",
       "      <th>sentiment</th>\n",
       "      <th>year</th>\n",
       "    </tr>\n",
       "  </thead>\n",
       "  <tbody>\n",
       "    <tr>\n",
       "      <th>0</th>\n",
       "      <td>76561197970982479</td>\n",
       "      <td>1250</td>\n",
       "      <td>True</td>\n",
       "      <td>2</td>\n",
       "      <td>2011</td>\n",
       "    </tr>\n",
       "    <tr>\n",
       "      <th>1</th>\n",
       "      <td>76561197970982479</td>\n",
       "      <td>22200</td>\n",
       "      <td>True</td>\n",
       "      <td>2</td>\n",
       "      <td>2011</td>\n",
       "    </tr>\n",
       "    <tr>\n",
       "      <th>2</th>\n",
       "      <td>76561197970982479</td>\n",
       "      <td>43110</td>\n",
       "      <td>True</td>\n",
       "      <td>2</td>\n",
       "      <td>2011</td>\n",
       "    </tr>\n",
       "    <tr>\n",
       "      <th>3</th>\n",
       "      <td>js41637</td>\n",
       "      <td>251610</td>\n",
       "      <td>True</td>\n",
       "      <td>2</td>\n",
       "      <td>2014</td>\n",
       "    </tr>\n",
       "    <tr>\n",
       "      <th>4</th>\n",
       "      <td>js41637</td>\n",
       "      <td>227300</td>\n",
       "      <td>True</td>\n",
       "      <td>2</td>\n",
       "      <td>2013</td>\n",
       "    </tr>\n",
       "  </tbody>\n",
       "</table>\n",
       "</div>"
      ],
      "text/plain": [
       "                  id item_id  recommend  sentiment  year\n",
       "0  76561197970982479    1250       True          2  2011\n",
       "1  76561197970982479   22200       True          2  2011\n",
       "2  76561197970982479   43110       True          2  2011\n",
       "3            js41637  251610       True          2  2014\n",
       "4            js41637  227300       True          2  2013"
      ]
     },
     "execution_count": 63,
     "metadata": {},
     "output_type": "execute_result"
    }
   ],
   "source": [
    "df.head()"
   ]
  },
  {
   "cell_type": "markdown",
   "metadata": {},
   "source": [
    "# 7. Carga"
   ]
  },
  {
   "cell_type": "markdown",
   "metadata": {},
   "source": [
    "Finalmente cargamos los datos. En este caso, el dataframe resultante será optimo tanto para la API, como para el EDA y el algoritmo de recomendación. Conservaré los años nulos en ambas ya que en el EDA solo se usarán para describir el crecimiento de las reviews y en el API solo se usaran en una función."
   ]
  },
  {
   "cell_type": "code",
   "execution_count": 64,
   "metadata": {},
   "outputs": [],
   "source": [
    "df.to_csv('../Data/Processed/df_reviews.csv', index=False)"
   ]
  }
 ],
 "metadata": {
  "kernelspec": {
   "display_name": "Python 3",
   "language": "python",
   "name": "python3"
  },
  "language_info": {
   "codemirror_mode": {
    "name": "ipython",
    "version": 3
   },
   "file_extension": ".py",
   "mimetype": "text/x-python",
   "name": "python",
   "nbconvert_exporter": "python",
   "pygments_lexer": "ipython3",
   "version": "3.12.0"
  }
 },
 "nbformat": 4,
 "nbformat_minor": 2
}
