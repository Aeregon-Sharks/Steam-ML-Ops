{
 "cells": [
  {
   "cell_type": "markdown",
   "metadata": {},
   "source": [
    "En este notebook se realizan las consultas necesarias a cada set de datos para generar un set de datos óptimo para cada funcion de la API.\n",
    "\n",
    "---"
   ]
  },
  {
   "cell_type": "markdown",
   "metadata": {},
   "source": [
    "# Importamos las librerias necesarias."
   ]
  },
  {
   "cell_type": "code",
   "execution_count": 14,
   "metadata": {},
   "outputs": [],
   "source": [
    "import pandas as pd # Trabajamos datos con pandas.\n",
    "import ast # Evaluaremos una cadena de texto que puede ser un iterable con ast."
   ]
  },
  {
   "cell_type": "markdown",
   "metadata": {},
   "source": [
    "Defino donde se van a guardar los datos"
   ]
  },
  {
   "cell_type": "code",
   "execution_count": 15,
   "metadata": {},
   "outputs": [],
   "source": [
    "apipath = '../Api/ApiData/'"
   ]
  },
  {
   "cell_type": "markdown",
   "metadata": {},
   "source": [
    "# 1. developer( )"
   ]
  },
  {
   "cell_type": "code",
   "execution_count": 16,
   "metadata": {},
   "outputs": [
    {
     "data": {
      "text/html": [
       "<div>\n",
       "<style scoped>\n",
       "    .dataframe tbody tr th:only-of-type {\n",
       "        vertical-align: middle;\n",
       "    }\n",
       "\n",
       "    .dataframe tbody tr th {\n",
       "        vertical-align: top;\n",
       "    }\n",
       "\n",
       "    .dataframe thead th {\n",
       "        text-align: right;\n",
       "    }\n",
       "</style>\n",
       "<table border=\"1\" class=\"dataframe\">\n",
       "  <thead>\n",
       "    <tr style=\"text-align: right;\">\n",
       "      <th></th>\n",
       "      <th>developer</th>\n",
       "      <th>year</th>\n",
       "      <th>Cantidad</th>\n",
       "      <th>% free to play</th>\n",
       "    </tr>\n",
       "  </thead>\n",
       "  <tbody>\n",
       "    <tr>\n",
       "      <th>14700</th>\n",
       "      <td>萌石游戏</td>\n",
       "      <td>2017.0</td>\n",
       "      <td>1</td>\n",
       "      <td>0.00 %</td>\n",
       "    </tr>\n",
       "    <tr>\n",
       "      <th>14701</th>\n",
       "      <td>高考恋爱委员会</td>\n",
       "      <td>2015.0</td>\n",
       "      <td>1</td>\n",
       "      <td>100.00 %</td>\n",
       "    </tr>\n",
       "    <tr>\n",
       "      <th>14702</th>\n",
       "      <td>高考恋爱委员会,Days</td>\n",
       "      <td>2015.0</td>\n",
       "      <td>1</td>\n",
       "      <td>0.00 %</td>\n",
       "    </tr>\n",
       "    <tr>\n",
       "      <th>14703</th>\n",
       "      <td>高考恋爱委员会,橘子班</td>\n",
       "      <td>2015.0</td>\n",
       "      <td>1</td>\n",
       "      <td>0.00 %</td>\n",
       "    </tr>\n",
       "    <tr>\n",
       "      <th>14704</th>\n",
       "      <td>高考恋爱委员会,橘子班</td>\n",
       "      <td>2017.0</td>\n",
       "      <td>1</td>\n",
       "      <td>0.00 %</td>\n",
       "    </tr>\n",
       "  </tbody>\n",
       "</table>\n",
       "</div>"
      ],
      "text/plain": [
       "          developer    year  Cantidad % free to play\n",
       "14700          萌石游戏  2017.0         1         0.00 %\n",
       "14701       高考恋爱委员会  2015.0         1       100.00 %\n",
       "14702  高考恋爱委员会,Days  2015.0         1         0.00 %\n",
       "14703   高考恋爱委员会,橘子班  2015.0         1         0.00 %\n",
       "14704   高考恋爱委员会,橘子班  2017.0         1         0.00 %"
      ]
     },
     "execution_count": 16,
     "metadata": {},
     "output_type": "execute_result"
    }
   ],
   "source": [
    "# Cargo el data frame y las columnas que usaremos.\n",
    "df = pd.read_csv('../Data/Processed/games_api.csv', dtype={'year':'str', 'id':'str'}, usecols=['price', 'id', 'developer', 'year'])\n",
    "# Agrupamos por desarrollador y año, para facilitar la búsqueda de la API. Contamos los id y contamos la cantidad de precios que sean 0 (free to play).\n",
    "df = df.groupby(['developer', 'year']).agg({'id':'count', 'price': lambda x: (x == 0).sum()}).reset_index()\n",
    "# Dividimos la cantidad total de juegos gratis sobre la cantidad total de juegos para obtener el porcentaje de gratis.\n",
    "df['price'] = (df['price'] / df['id'])*100\n",
    "# Formateamos el porcentaje para una mejor lectura.\n",
    "df['price'] = df['price'].apply(lambda x: f\"{x:.2f} %\")\n",
    "# Renombramos las columnas para una mejor lectura.\n",
    "df = df.rename(columns={'id':'Cantidad', 'price':'% free to play'})\n",
    "# Visualizamos el resultado.\n",
    "df.tail()"
   ]
  },
  {
   "cell_type": "markdown",
   "metadata": {},
   "source": [
    "Exportamos los datos"
   ]
  },
  {
   "cell_type": "code",
   "execution_count": 17,
   "metadata": {},
   "outputs": [],
   "source": [
    "# Volvemos la columna objetivo minúscula para una mejor experiencia de búsqueda.\n",
    "df['developer'] = df['developer'].str.lower()\n",
    "df.to_csv(apipath + 'developer.csv', index=False)"
   ]
  },
  {
   "cell_type": "markdown",
   "metadata": {},
   "source": [
    "# 2. userdata( )"
   ]
  },
  {
   "cell_type": "code",
   "execution_count": 18,
   "metadata": {},
   "outputs": [
    {
     "data": {
      "text/html": [
       "<div>\n",
       "<style scoped>\n",
       "    .dataframe tbody tr th:only-of-type {\n",
       "        vertical-align: middle;\n",
       "    }\n",
       "\n",
       "    .dataframe tbody tr th {\n",
       "        vertical-align: top;\n",
       "    }\n",
       "\n",
       "    .dataframe thead th {\n",
       "        text-align: right;\n",
       "    }\n",
       "</style>\n",
       "<table border=\"1\" class=\"dataframe\">\n",
       "  <thead>\n",
       "    <tr style=\"text-align: right;\">\n",
       "      <th></th>\n",
       "      <th>id_user</th>\n",
       "      <th>Cantidad_items</th>\n",
       "      <th>Dinero_gastado</th>\n",
       "      <th>recommend</th>\n",
       "    </tr>\n",
       "  </thead>\n",
       "  <tbody>\n",
       "    <tr>\n",
       "      <th>0</th>\n",
       "      <td>--000--</td>\n",
       "      <td>48</td>\n",
       "      <td>402.77</td>\n",
       "      <td>No hay reseñas.</td>\n",
       "    </tr>\n",
       "    <tr>\n",
       "      <th>1</th>\n",
       "      <td>--ace--</td>\n",
       "      <td>38</td>\n",
       "      <td>166.82</td>\n",
       "      <td>100.00 %</td>\n",
       "    </tr>\n",
       "    <tr>\n",
       "      <th>2</th>\n",
       "      <td>--ionex--</td>\n",
       "      <td>19</td>\n",
       "      <td>109.92</td>\n",
       "      <td>100.00 %</td>\n",
       "    </tr>\n",
       "    <tr>\n",
       "      <th>3</th>\n",
       "      <td>-2SV-vuLB-Kg</td>\n",
       "      <td>53</td>\n",
       "      <td>437.49</td>\n",
       "      <td>100.00 %</td>\n",
       "    </tr>\n",
       "    <tr>\n",
       "      <th>4</th>\n",
       "      <td>-404PageNotFound-</td>\n",
       "      <td>112</td>\n",
       "      <td>1514.31</td>\n",
       "      <td>No hay reseñas.</td>\n",
       "    </tr>\n",
       "  </tbody>\n",
       "</table>\n",
       "</div>"
      ],
      "text/plain": [
       "             id_user  Cantidad_items  Dinero_gastado        recommend\n",
       "0            --000--              48          402.77  No hay reseñas.\n",
       "1            --ace--              38          166.82         100.00 %\n",
       "2          --ionex--              19          109.92         100.00 %\n",
       "3       -2SV-vuLB-Kg              53          437.49         100.00 %\n",
       "4  -404PageNotFound-             112         1514.31  No hay reseñas."
      ]
     },
     "execution_count": 18,
     "metadata": {},
     "output_type": "execute_result"
    }
   ],
   "source": [
    "# Cargamos los datos que usaremos.\n",
    "df_users = pd.read_csv('../Data/Processed/items_api.csv', usecols=['id', 'item_id'])\n",
    "df_recommend = pd.read_csv('../Data/Processed/df_reviews.csv', usecols=['id', 'recommend'])\n",
    "df_money = pd.read_csv('../Data/Processed/games_api.csv', usecols=['id', 'price'])\n",
    "# Empezamos mezclando los usuarios con la información precio del juego que tengan.\n",
    "df = pd.merge(df_users, df_money, left_on='item_id', right_on='id', suffixes=('_user', '_item'), how='inner')\n",
    "# Eliminamos la columna restante.\n",
    "df = df.drop(columns=['id_item'])\n",
    "# Agrupamos por id de usuario y sumamos la cantidad de items y el total de dinero gastado.\n",
    "df = df.groupby('id_user').agg({'item_id':'count', 'price':'sum'})\n",
    "# Cambiamos el nombre de las columnas.\n",
    "df = df.rename(columns={'item_id':'Cantidad_items', 'price':'Dinero_gastado'})\n",
    "# creamos una columna para que cuente el total de registros.\n",
    "df_recommend['total'] = df_recommend['recommend']\n",
    "# Agrupamos y sumamos la cantidad de recomendaciones (al ser un booleano los True contaran como 1 y los False como 0) y a su vez contamos los registros.\n",
    "recommends = df_recommend.groupby('id').agg({'recommend':'sum', 'total':'count'})\n",
    "# Agregamos el porcentaje de recomendación al dataframe, dividiendo el total de recomendados sobre el total, y multiplicándolo por 100.\n",
    "df['recommend'] = (recommends['recommend'] / recommends['total'])*100\n",
    "# Formateamos la columna para una mejor lectura.\n",
    "df['recommend'] = df['recommend'].apply(lambda x: f\"{x:.2f} %\" if not pd.isnull(x) else x)\n",
    "# Llenamos los valores que no tenían coincidencias con No hay reseñas. No los llené con 0 porque se puede malinterpretar como un usuario que tiene reseñas pero en ninguna recomienda.\n",
    "df = df.fillna('No hay reseñas.')\n",
    "# Reinicio el indice por comodidad para la API.\n",
    "df = df.reset_index()\n",
    "# Previsualizamos.\n",
    "df.head()"
   ]
  },
  {
   "cell_type": "markdown",
   "metadata": {},
   "source": [
    "Exportamos los datos"
   ]
  },
  {
   "cell_type": "code",
   "execution_count": 19,
   "metadata": {},
   "outputs": [],
   "source": [
    "# En este caso no volvemos la columna objetivo minúsculas, ya que los usuarios deben tener IDs únicos, y esto puede interferir en eso.\n",
    "df.to_csv(apipath + 'user_data.csv', index=False)"
   ]
  },
  {
   "cell_type": "markdown",
   "metadata": {},
   "source": [
    "# 3. UserForGenre( )"
   ]
  },
  {
   "cell_type": "code",
   "execution_count": 20,
   "metadata": {},
   "outputs": [
    {
     "data": {
      "text/html": [
       "<div>\n",
       "<style scoped>\n",
       "    .dataframe tbody tr th:only-of-type {\n",
       "        vertical-align: middle;\n",
       "    }\n",
       "\n",
       "    .dataframe tbody tr th {\n",
       "        vertical-align: top;\n",
       "    }\n",
       "\n",
       "    .dataframe thead th {\n",
       "        text-align: right;\n",
       "    }\n",
       "</style>\n",
       "<table border=\"1\" class=\"dataframe\">\n",
       "  <thead>\n",
       "    <tr style=\"text-align: right;\">\n",
       "      <th></th>\n",
       "      <th>genres</th>\n",
       "      <th>user_id</th>\n",
       "      <th>year</th>\n",
       "      <th>playtime_forever_x</th>\n",
       "    </tr>\n",
       "  </thead>\n",
       "  <tbody>\n",
       "    <tr>\n",
       "      <th>0</th>\n",
       "      <td>1980s</td>\n",
       "      <td>76561198042170355</td>\n",
       "      <td>2015.0</td>\n",
       "      <td>10467</td>\n",
       "    </tr>\n",
       "    <tr>\n",
       "      <th>1</th>\n",
       "      <td>1990's</td>\n",
       "      <td>76561197995146150</td>\n",
       "      <td>2011.0</td>\n",
       "      <td>15820</td>\n",
       "    </tr>\n",
       "    <tr>\n",
       "      <th>2</th>\n",
       "      <td>1990's</td>\n",
       "      <td>76561197995146150</td>\n",
       "      <td>2012.0</td>\n",
       "      <td>122</td>\n",
       "    </tr>\n",
       "    <tr>\n",
       "      <th>3</th>\n",
       "      <td>2D</td>\n",
       "      <td>76561198083612270</td>\n",
       "      <td>2012.0</td>\n",
       "      <td>24664</td>\n",
       "    </tr>\n",
       "    <tr>\n",
       "      <th>4</th>\n",
       "      <td>3D Platformer</td>\n",
       "      <td>76561197995146150</td>\n",
       "      <td>2011.0</td>\n",
       "      <td>15820</td>\n",
       "    </tr>\n",
       "  </tbody>\n",
       "</table>\n",
       "</div>"
      ],
      "text/plain": [
       "          genres            user_id    year  playtime_forever_x\n",
       "0          1980s  76561198042170355  2015.0               10467\n",
       "1         1990's  76561197995146150  2011.0               15820\n",
       "2         1990's  76561197995146150  2012.0                 122\n",
       "3             2D  76561198083612270  2012.0               24664\n",
       "4  3D Platformer  76561197995146150  2011.0               15820"
      ]
     },
     "execution_count": 20,
     "metadata": {},
     "output_type": "execute_result"
    }
   ],
   "source": [
    "# Cargamos los datos.\n",
    "df_games = pd.read_csv('../Data/Processed/games_api.csv', usecols=['id', 'genres', 'year'])\n",
    "df_users = pd.read_csv('../Data/Processed/items_api.csv', usecols=['id', 'item_id', 'playtime_forever'])\n",
    "# Eliminamos los faltantes previamente conservados ( revisar notebook ETL-Games.ipynb para más información ).\n",
    "df_games.dropna(inplace=True)\n",
    "# Eliminamos los tiempos de juego 0 ya que solo aportaran carga computacional a las funciones de pandas.\n",
    "df_users = df_users[df_users['playtime_forever'] > 0]\n",
    "# Convertimos la columna de géneros a un iterable.\n",
    "df_games['genres'] = df_games['genres'].apply(ast.literal_eval)\n",
    "# Mezclamos los dataframes en id para obtener juntar el tiempo de juego con cada juego. También eliminamos la columna repetida id.\n",
    "merged = pd.merge(df_games, df_users, left_on='id', right_on='item_id', how='inner').drop(columns=['id_x']).rename(columns={'id_y':'user_id'})\n",
    "# Extraemos los géneros para que sean filas.\n",
    "genres = merged.explode('genres')\n",
    "# Agrupamos las filas de géneros extraídas por usuario y por año, sumando el tiempo de juego total.\n",
    "df_year_time = genres.groupby(['genres', 'user_id', 'year']).agg({'playtime_forever': 'sum'}).reset_index()\n",
    "# Agrupamos nuevamente pero esta vez sin el año, para saber el usuario con más horas totales para cada género.\n",
    "df = genres.groupby(['genres', 'user_id']).agg({'playtime_forever': 'sum'}).reset_index()\n",
    "# Extraemos para cada genero, el usuario con más horas acumuladas para ese género. Lo ordenamos para una mejor previsualización.\n",
    "df_max = df.loc[df.groupby('genres')['playtime_forever'].idxmax()].sort_values('playtime_forever', ascending=False)\n",
    "# Filtramos el df con la información de los años, para que contenga a los jugadores que se necesitan (los del top de cada género).\n",
    "dff = pd.merge(df_year_time, df_max, on=['user_id', 'genres']).drop(columns=['playtime_forever_y'])\n",
    "# Previsualizamos el dataframe final.\n",
    "dff.head()"
   ]
  },
  {
   "cell_type": "markdown",
   "metadata": {},
   "source": [
    "Exportamos los datos."
   ]
  },
  {
   "cell_type": "code",
   "execution_count": 21,
   "metadata": {},
   "outputs": [],
   "source": [
    "# Volvemos la columna objetivo minúscula para una mejor experiencia de búsqueda.\n",
    "dff['genres'] = dff['genres'].str.lower()\n",
    "dff.to_csv(apipath + 'user_for_genre.csv', index=False)"
   ]
  },
  {
   "cell_type": "markdown",
   "metadata": {},
   "source": [
    "# 4. best_developer_year( )"
   ]
  },
  {
   "cell_type": "code",
   "execution_count": 22,
   "metadata": {},
   "outputs": [
    {
     "data": {
      "text/html": [
       "<div>\n",
       "<style scoped>\n",
       "    .dataframe tbody tr th:only-of-type {\n",
       "        vertical-align: middle;\n",
       "    }\n",
       "\n",
       "    .dataframe tbody tr th {\n",
       "        vertical-align: top;\n",
       "    }\n",
       "\n",
       "    .dataframe thead th {\n",
       "        text-align: right;\n",
       "    }\n",
       "</style>\n",
       "<table border=\"1\" class=\"dataframe\">\n",
       "  <thead>\n",
       "    <tr style=\"text-align: right;\">\n",
       "      <th></th>\n",
       "      <th>year</th>\n",
       "      <th>developer</th>\n",
       "      <th>total</th>\n",
       "    </tr>\n",
       "  </thead>\n",
       "  <tbody>\n",
       "    <tr>\n",
       "      <th>0</th>\n",
       "      <td>2015</td>\n",
       "      <td>Valve</td>\n",
       "      <td>2240</td>\n",
       "    </tr>\n",
       "    <tr>\n",
       "      <th>1</th>\n",
       "      <td>2015</td>\n",
       "      <td>Facepunch Studios</td>\n",
       "      <td>477</td>\n",
       "    </tr>\n",
       "    <tr>\n",
       "      <th>2</th>\n",
       "      <td>2015</td>\n",
       "      <td>Smartly Dressed Games</td>\n",
       "      <td>258</td>\n",
       "    </tr>\n",
       "    <tr>\n",
       "      <th>3</th>\n",
       "      <td>2014</td>\n",
       "      <td>Valve</td>\n",
       "      <td>3095</td>\n",
       "    </tr>\n",
       "    <tr>\n",
       "      <th>4</th>\n",
       "      <td>2014</td>\n",
       "      <td>Facepunch Studios</td>\n",
       "      <td>1121</td>\n",
       "    </tr>\n",
       "    <tr>\n",
       "      <th>5</th>\n",
       "      <td>2014</td>\n",
       "      <td>Bohemia Interactive</td>\n",
       "      <td>554</td>\n",
       "    </tr>\n",
       "    <tr>\n",
       "      <th>6</th>\n",
       "      <td>2013</td>\n",
       "      <td>Valve</td>\n",
       "      <td>1252</td>\n",
       "    </tr>\n",
       "    <tr>\n",
       "      <th>7</th>\n",
       "      <td>2013</td>\n",
       "      <td>Facepunch Studios</td>\n",
       "      <td>407</td>\n",
       "    </tr>\n",
       "    <tr>\n",
       "      <th>8</th>\n",
       "      <td>2013</td>\n",
       "      <td>Bohemia Interactive</td>\n",
       "      <td>152</td>\n",
       "    </tr>\n",
       "    <tr>\n",
       "      <th>9</th>\n",
       "      <td>2012</td>\n",
       "      <td>Valve</td>\n",
       "      <td>419</td>\n",
       "    </tr>\n",
       "    <tr>\n",
       "      <th>10</th>\n",
       "      <td>2012</td>\n",
       "      <td>Facepunch Studios</td>\n",
       "      <td>45</td>\n",
       "    </tr>\n",
       "    <tr>\n",
       "      <th>11</th>\n",
       "      <td>2012</td>\n",
       "      <td>Re-Logic</td>\n",
       "      <td>34</td>\n",
       "    </tr>\n",
       "    <tr>\n",
       "      <th>12</th>\n",
       "      <td>2011</td>\n",
       "      <td>Valve</td>\n",
       "      <td>172</td>\n",
       "    </tr>\n",
       "    <tr>\n",
       "      <th>13</th>\n",
       "      <td>2011</td>\n",
       "      <td>Re-Logic</td>\n",
       "      <td>24</td>\n",
       "    </tr>\n",
       "    <tr>\n",
       "      <th>14</th>\n",
       "      <td>2011</td>\n",
       "      <td>Tripwire Interactive</td>\n",
       "      <td>22</td>\n",
       "    </tr>\n",
       "    <tr>\n",
       "      <th>15</th>\n",
       "      <td>2010</td>\n",
       "      <td>Valve</td>\n",
       "      <td>30</td>\n",
       "    </tr>\n",
       "    <tr>\n",
       "      <th>16</th>\n",
       "      <td>2010</td>\n",
       "      <td>Tripwire Interactive</td>\n",
       "      <td>7</td>\n",
       "    </tr>\n",
       "    <tr>\n",
       "      <th>17</th>\n",
       "      <td>2010</td>\n",
       "      <td>Firaxis Games</td>\n",
       "      <td>4</td>\n",
       "    </tr>\n",
       "  </tbody>\n",
       "</table>\n",
       "</div>"
      ],
      "text/plain": [
       "    year              developer  total\n",
       "0   2015                  Valve   2240\n",
       "1   2015      Facepunch Studios    477\n",
       "2   2015  Smartly Dressed Games    258\n",
       "3   2014                  Valve   3095\n",
       "4   2014      Facepunch Studios   1121\n",
       "5   2014    Bohemia Interactive    554\n",
       "6   2013                  Valve   1252\n",
       "7   2013      Facepunch Studios    407\n",
       "8   2013    Bohemia Interactive    152\n",
       "9   2012                  Valve    419\n",
       "10  2012      Facepunch Studios     45\n",
       "11  2012               Re-Logic     34\n",
       "12  2011                  Valve    172\n",
       "13  2011               Re-Logic     24\n",
       "14  2011   Tripwire Interactive     22\n",
       "15  2010                  Valve     30\n",
       "16  2010   Tripwire Interactive      7\n",
       "17  2010          Firaxis Games      4"
      ]
     },
     "execution_count": 22,
     "metadata": {},
     "output_type": "execute_result"
    }
   ],
   "source": [
    "# Cargo los dataframes junto con las columnas que usaré.\n",
    "df_devs = pd.read_csv('../Data/Processed/games_api.csv', usecols=['id', 'developer'])\n",
    "df_recommend = pd.read_csv('../Data/Processed/df_reviews.csv', usecols=['item_id', 'recommend', 'sentiment', 'year'], dtype={'year':str})\n",
    "\n",
    "# Mezclamos el df en el que se encuentran los desarrolladores, junto con el que se encuentran las calificaciones junto al año en general de los usuarios.\n",
    "df = pd.merge(df_devs, df_recommend, left_on='id', right_on='item_id', how='inner')\n",
    "# En la columna sentimiento, le restamos 1 al valor, para que cuando sea positiva (antes 2) valga por 1, cuando sea neutral (antes 1), valga 0, y cuando sea negativa (antes 0), reste 1.\n",
    "df['sentiment'] = df['sentiment'].apply(lambda x: x - 1)\n",
    "# Agrupamos por año, y por desarrollador, aplicando la suma a sus puntajes en ambas columnas.\n",
    "df = df.groupby(['year', 'developer']).agg({'recommend':'sum', 'sentiment':'sum'}).reset_index()\n",
    "# Obtenemos el total de puntos.\n",
    "df['total'] = df['recommend'] + df['sentiment']\n",
    "# Eliminamos las columnas ya que solo usaremos el total.\n",
    "df = df.drop(columns=['recommend', 'sentiment'])\n",
    "# Ordenamos el DataFrame por año y total en orden descendente.\n",
    "df = df.sort_values(by=['year', 'total'], ascending=False)\n",
    "# Creamos una lista vacía para almacenar los resultados de los 3 mejores desarrolladores de cada año.\n",
    "top_devs = []\n",
    "# Con year iterando en cada año único en el DataFrame, podemos entrar en cada año.\n",
    "for year in df['year'].unique():\n",
    "    # Seleccionamos los datos correspondientes al año actual.\n",
    "    df_temp = df[df['year'] == year]\n",
    "    # Obtenemos los 3 mejores desarrolladores del año basándonos en el total y los agregamos a la lista.\n",
    "    top_devs.append(df_temp.nlargest(3, 'total'))\n",
    "# Creamos un DataFrame con los datos de la lista.\n",
    "top_devs = pd.concat(top_devs, ignore_index=True)\n",
    "# Visualizamos el DataFrame resultante.\n",
    "top_devs\n",
    "# Ya que la columna total no la usaremos en la API, podríamos borrarla, pero en caso de que ocurra que al cargar el DataFrame resultante\n",
    "# no se cargue en su orden original, prefiero mantener la columna para luego sortear el DataFrame y evitar errores, el cargo de esta tarea es mínimo igualmente."
   ]
  },
  {
   "cell_type": "markdown",
   "metadata": {},
   "source": [
    "Exportamos los datos."
   ]
  },
  {
   "cell_type": "code",
   "execution_count": 23,
   "metadata": {},
   "outputs": [],
   "source": [
    "top_devs.to_csv(apipath + 'best_developer_year.csv', index=False)"
   ]
  },
  {
   "cell_type": "markdown",
   "metadata": {},
   "source": [
    "# 5.developer_reviews_analysis( )"
   ]
  },
  {
   "cell_type": "code",
   "execution_count": 24,
   "metadata": {},
   "outputs": [
    {
     "data": {
      "text/html": [
       "<div>\n",
       "<style scoped>\n",
       "    .dataframe tbody tr th:only-of-type {\n",
       "        vertical-align: middle;\n",
       "    }\n",
       "\n",
       "    .dataframe tbody tr th {\n",
       "        vertical-align: top;\n",
       "    }\n",
       "\n",
       "    .dataframe thead th {\n",
       "        text-align: right;\n",
       "    }\n",
       "</style>\n",
       "<table border=\"1\" class=\"dataframe\">\n",
       "  <thead>\n",
       "    <tr style=\"text-align: right;\">\n",
       "      <th></th>\n",
       "      <th>developer</th>\n",
       "      <th>pos</th>\n",
       "      <th>neg</th>\n",
       "    </tr>\n",
       "  </thead>\n",
       "  <tbody>\n",
       "    <tr>\n",
       "      <th>0</th>\n",
       "      <td>10tons Ltd</td>\n",
       "      <td>1</td>\n",
       "      <td>0</td>\n",
       "    </tr>\n",
       "    <tr>\n",
       "      <th>1</th>\n",
       "      <td>11 bit studios</td>\n",
       "      <td>20</td>\n",
       "      <td>27</td>\n",
       "    </tr>\n",
       "    <tr>\n",
       "      <th>2</th>\n",
       "      <td>14° East</td>\n",
       "      <td>1</td>\n",
       "      <td>0</td>\n",
       "    </tr>\n",
       "    <tr>\n",
       "      <th>3</th>\n",
       "      <td>16bit Nights</td>\n",
       "      <td>0</td>\n",
       "      <td>1</td>\n",
       "    </tr>\n",
       "    <tr>\n",
       "      <th>4</th>\n",
       "      <td>17-BIT</td>\n",
       "      <td>1</td>\n",
       "      <td>0</td>\n",
       "    </tr>\n",
       "  </tbody>\n",
       "</table>\n",
       "</div>"
      ],
      "text/plain": [
       "        developer  pos  neg\n",
       "0      10tons Ltd    1    0\n",
       "1  11 bit studios   20   27\n",
       "2        14° East    1    0\n",
       "3    16bit Nights    0    1\n",
       "4          17-BIT    1    0"
      ]
     },
     "execution_count": 24,
     "metadata": {},
     "output_type": "execute_result"
    }
   ],
   "source": [
    "# Cargo los dataframes junto con las columnas que usaré.\n",
    "df_devs = pd.read_csv('../Data/Processed/games_api.csv', usecols=['id', 'developer'])\n",
    "df_recommend = pd.read_csv('../Data/Processed/df_reviews.csv', usecols=['item_id', 'sentiment'])\n",
    "# Mezclamos el DataFrame de los developer y sus juegos, junto con sus correspondientes reseñas.\n",
    "df = pd.merge(df_devs, df_recommend, left_on='id', right_on='item_id', how='inner')\n",
    "# Eliminamos los sentimientos neutros, ya que solo necesitamos contar los positivos y negativos.\n",
    "df = df[df['sentiment'] != 1]\n",
    "# Identificamos los sentimientos positivos.\n",
    "df['pos'] = df['sentiment'].apply(lambda x: True if x else False)\n",
    "# Negamos la columna positiva para tener los negativos.\n",
    "df['neg'] = ~(df['pos'])\n",
    "# Sumamos sus respectivos totales para obtener el DataFrame final.\n",
    "df = df.groupby('developer').agg({'pos':'sum', 'neg':'sum'}).reset_index()\n",
    "# Previsualizamos.\n",
    "df.head()"
   ]
  },
  {
   "cell_type": "markdown",
   "metadata": {},
   "source": [
    "Exportamos los datos."
   ]
  },
  {
   "cell_type": "code",
   "execution_count": 25,
   "metadata": {},
   "outputs": [],
   "source": [
    "# Volvemos la columna objetivo minúscula para una mejor experiencia de búsqueda.\n",
    "df['developer'] = df['developer'].str.lower()\n",
    "df.to_csv(apipath + 'developer_reviews_analysis.csv', index=False)"
   ]
  }
 ],
 "metadata": {
  "kernelspec": {
   "display_name": "Python 3",
   "language": "python",
   "name": "python3"
  },
  "language_info": {
   "codemirror_mode": {
    "name": "ipython",
    "version": 3
   },
   "file_extension": ".py",
   "mimetype": "text/x-python",
   "name": "python",
   "nbconvert_exporter": "python",
   "pygments_lexer": "ipython3",
   "version": "3.12.0"
  }
 },
 "nbformat": 4,
 "nbformat_minor": 2
}
